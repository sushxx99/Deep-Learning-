{
  "nbformat": 4,
  "nbformat_minor": 0,
  "metadata": {
    "colab": {
      "provenance": []
    },
    "kernelspec": {
      "name": "python3",
      "display_name": "Python 3"
    },
    "language_info": {
      "name": "python"
    }
  },
  "cells": [
    {
      "cell_type": "code",
      "execution_count": 6,
      "metadata": {
        "colab": {
          "base_uri": "https://localhost:8080/"
        },
        "id": "7RVMR4F3Rnz_",
        "outputId": "d29dd8ef-aab6-44e4-c677-ae9f1d0d2035"
      },
      "outputs": [
        {
          "output_type": "stream",
          "name": "stdout",
          "text": [
            "Epoch 1\n",
            "Input: [0 0] Target Output: 0 Predicted Output: 0 Updated Weights: [0.9 0.9]\n",
            "-----------------------\n",
            "Input: [0 1] Target Output: 1 Predicted Output: 1 Updated Weights: [0.9 0.9]\n",
            "-----------------------\n",
            "Input: [1 0] Target Output: 1 Predicted Output: 1 Updated Weights: [0.9 0.9]\n",
            "-----------------------\n",
            "Input: [1 1] Target Output: 1 Predicted Output: 1 Updated Weights: [0.9 0.9]\n",
            "-----------------------\n",
            "Epoch 2\n",
            "Input: [0 0] Target Output: 0 Predicted Output: 0 Updated Weights: [0.9 0.9]\n",
            "-----------------------\n",
            "Input: [0 1] Target Output: 1 Predicted Output: 1 Updated Weights: [0.9 0.9]\n",
            "-----------------------\n",
            "Input: [1 0] Target Output: 1 Predicted Output: 1 Updated Weights: [0.9 0.9]\n",
            "-----------------------\n",
            "Input: [1 1] Target Output: 1 Predicted Output: 1 Updated Weights: [0.9 0.9]\n",
            "-----------------------\n",
            "Epoch 3\n",
            "Input: [0 0] Target Output: 0 Predicted Output: 0 Updated Weights: [0.9 0.9]\n",
            "-----------------------\n",
            "Input: [0 1] Target Output: 1 Predicted Output: 1 Updated Weights: [0.9 0.9]\n",
            "-----------------------\n",
            "Input: [1 0] Target Output: 1 Predicted Output: 1 Updated Weights: [0.9 0.9]\n",
            "-----------------------\n",
            "Input: [1 1] Target Output: 1 Predicted Output: 1 Updated Weights: [0.9 0.9]\n",
            "-----------------------\n",
            "Epoch 4\n",
            "Input: [0 0] Target Output: 0 Predicted Output: 0 Updated Weights: [0.9 0.9]\n",
            "-----------------------\n",
            "Input: [0 1] Target Output: 1 Predicted Output: 1 Updated Weights: [0.9 0.9]\n",
            "-----------------------\n",
            "Input: [1 0] Target Output: 1 Predicted Output: 1 Updated Weights: [0.9 0.9]\n",
            "-----------------------\n",
            "Input: [1 1] Target Output: 1 Predicted Output: 1 Updated Weights: [0.9 0.9]\n",
            "-----------------------\n"
          ]
        }
      ],
      "source": [
        "import numpy as np\n",
        "\n",
        "# McCulloch-Pitts Neuron\n",
        "def mcculloch_pitts_neuron(inputs, weights, threshold=0.5):\n",
        "    # Calculate the weighted sum\n",
        "    weighted_sum = np.dot(inputs, weights)\n",
        "\n",
        "    # Apply threshold logic\n",
        "    output = 1 if weighted_sum > threshold else 0\n",
        "\n",
        "    return output\n",
        "\n",
        "# Training the McCulloch-Pitts Neuron for the OR problem\n",
        "def train_mcculloch_pitts_neuron(inputs, target_output, weights, threshold=0.5, learning_rate=0.2, epochs=4):\n",
        "    for epoch in range(epochs):\n",
        "        print(f\"Epoch {epoch + 1}\")\n",
        "        for input_values, target in zip(inputs, target_output):\n",
        "            # Get the neuron output\n",
        "            output = mcculloch_pitts_neuron(input_values, weights, threshold)\n",
        "\n",
        "            # Update the weights based on the error and learning rate\n",
        "            error = target - output\n",
        "            weights += learning_rate * error * input_values\n",
        "\n",
        "            # Display the updated weights and output\n",
        "            print(\"Input:\", input_values, \"Target Output:\", target, \"Predicted Output:\", output, \"Updated Weights:\", weights)\n",
        "            print(\"-----------------------\")\n",
        "\n",
        "# Inputs for the OR problem\n",
        "inputs = np.array([[0, 0], [0, 1], [1, 0], [1, 1]])\n",
        "\n",
        "# Target output for OR problem\n",
        "target_output = np.array([0, 1, 1, 1])\n",
        "\n",
        "# Initial weights\n",
        "initial_weights = np.array([0.9, 0.9])\n",
        "\n",
        "# Training the McCulloch-Pitts Neuron for 4 epochs with a threshold of 0.5 and learning rate of 0.2\n",
        "train_mcculloch_pitts_neuron(inputs, target_output, initial_weights, threshold=0.5, learning_rate=0.2, epochs=4)"
      ]
    }
  ]
}